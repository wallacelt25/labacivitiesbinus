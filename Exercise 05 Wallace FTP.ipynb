{
 "cells": [
  {
   "cell_type": "code",
   "execution_count": 10,
   "id": "04c7e441",
   "metadata": {},
   "outputs": [
    {
     "name": "stdout",
     "output_type": "stream",
     "text": [
      "Enter the point px:6\n",
      "Enter the point py:7\n",
      "Enter the point qx:5\n",
      "Enter the point qy:9\n",
      "(4, 11)\n"
     ]
    }
   ],
   "source": [
    "d= int(input(\"Enter the point px:\"))\n",
    "e= int(input(\"Enter the point py:\"))\n",
    "f= int(input(\"Enter the point qx:\"))\n",
    "g= int(input(\"Enter the point qy:\"))\n",
    "\n",
    "dx=f-d\n",
    "dy=e-g\n",
    "rx,ry=f+dx,g-dy\n",
    "print((rx,ry))"
   ]
  },
  {
   "cell_type": "code",
   "execution_count": null,
   "id": "1a3bb6f1",
   "metadata": {},
   "outputs": [],
   "source": []
  }
 ],
 "metadata": {
  "kernelspec": {
   "display_name": "Python 3 (ipykernel)",
   "language": "python",
   "name": "python3"
  },
  "language_info": {
   "codemirror_mode": {
    "name": "ipython",
    "version": 3
   },
   "file_extension": ".py",
   "mimetype": "text/x-python",
   "name": "python",
   "nbconvert_exporter": "python",
   "pygments_lexer": "ipython3",
   "version": "3.10.7"
  }
 },
 "nbformat": 4,
 "nbformat_minor": 5
}
