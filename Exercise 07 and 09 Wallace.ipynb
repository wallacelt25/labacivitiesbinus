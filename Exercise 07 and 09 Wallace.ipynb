{
 "cells": [
  {
   "cell_type": "code",
   "execution_count": null,
   "id": "edd95573",
   "metadata": {},
   "outputs": [],
   "source": [
    "sentence = input(\"Please enter english sentence: \").strip().lower()\n",
    "sentence = sentence.split()\n",
    "new_sentence = []\n",
    "\n",
    "for word in sentence:\n",
    "    if word[0] in [\"a\", \"e\", \"i\", \"o\", \"u\"]:\n",
    "        new_word = word+\"yay\"\n",
    "        new_sentence.append(new_word)\n",
    "    else:\n",
    "        new_word = word[1:] + word[0] + \"ay\"\n",
    "        new_sentence.append(new_word)\n",
    "new_sentence = \" \".join(new_sentence)\n",
    "print(new_sentence)"
   ]
  },
  {
   "cell_type": "code",
   "execution_count": null,
   "id": "a7be1171",
   "metadata": {},
   "outputs": [],
   "source": [
    "board = []\n",
    "w = 8\n",
    "h = 8\n",
    "letters = [\"A\", \"B\", \"C\", \"D\", \"E\", \"F\", \"G\", \"H\"]\n",
    "\n",
    "input = input(\"Please select a coordinate: \")\n",
    "coordinate = (alphabets.index(user_input[0].upper()),\n",
    "              HEIGHT - int(user_input[1]))\n",
    "\n",
    "# creating board\n",
    "for height in range(h):\n",
    "    board.append([])\n",
    "    for width in range(w):\n",
    "        board[height].append(f\"{alphabets[width]}{HEIGHT - height}\") board[coordinate[1]][coordinate[0]] = \"KN\"\n",
    "for x, y in [(-2, -1), (-1, -2), (1, -2), (2, -1), (2, 1), (1, 2), (-1, 2), (-2, 1)]:\n",
    "    if (coordinate[0] + x >= 0 and coordinate[0] + x <= 7) and (coordinate[1] + y >= 0 and coordinate[1] + y <= 7):\n",
    "        board[coordinate[1] + y][coordinate[0] + x] = \"XX\"\n",
    "for height in range(h):\n",
    "    for width in range(w):\n",
    "        print(board[height][width], end=\" \")"
   ]
  },
  {
   "cell_type": "code",
   "execution_count": null,
   "id": "95cfe1f2",
   "metadata": {},
   "outputs": [],
   "source": []
  }
 ],
 "metadata": {
  "kernelspec": {
   "display_name": "Python 3 (ipykernel)",
   "language": "python",
   "name": "python3"
  },
  "language_info": {
   "codemirror_mode": {
    "name": "ipython",
    "version": 3
   },
   "file_extension": ".py",
   "mimetype": "text/x-python",
   "name": "python",
   "nbconvert_exporter": "python",
   "pygments_lexer": "ipython3",
   "version": "3.10.7"
  }
 },
 "nbformat": 4,
 "nbformat_minor": 5
}
