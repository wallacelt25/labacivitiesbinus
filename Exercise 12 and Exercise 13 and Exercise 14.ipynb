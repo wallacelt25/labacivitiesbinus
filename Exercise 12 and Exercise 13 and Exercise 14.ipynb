{
 "cells": [
  {
   "cell_type": "code",
   "execution_count": 1,
   "id": "a743aacb",
   "metadata": {},
   "outputs": [],
   "source": [
    "class Temperature:\n",
    "    def __init__(self, celsius):\n",
    "        self.__celsius = celsius\n",
    "        \n",
    "    def to_celsius(self):\n",
    "        return self.__celsius\n",
    "        \n",
    "    def to_fahrenheit(self):\n",
    "        return self.__celsius * 9/5 + 32\n",
    "    \n",
    "    def to_kelvin(self):\n",
    "        return self.__celsius + 273.15\n",
    "    \n",
    "    def set_temperature(self, celsius):\n",
    "        if celsius >= -273.15:\n",
    "            self.__celsius = celsius\n",
    "    \n",
    "    def __str__(self):\n",
    "        return \"Celsius: \" + str(self.__celsius) + \"\\nFahrenheit: \" + str(self.__celsius * 9/5 + 32) + \"\\nKelvin: \" + str(self.__celsius + 273.15)"
   ]
  },
  {
   "cell_type": "code",
   "execution_count": 2,
   "id": "a2b012a9",
   "metadata": {},
   "outputs": [
    {
     "name": "stdout",
     "output_type": "stream",
     "text": [
      "-273.15\n",
      "-459.66999999999996\n",
      "0.0\n",
      "Celsius: -273.15\n",
      "Fahrenheit: -459.66999999999996\n",
      "Kelvin: 0.0\n"
     ]
    }
   ],
   "source": [
    "absolute_zero = Temperature(-273.15)\n",
    "\n",
    "print(absolute_zero.to_celsius())\n",
    "print(absolute_zero.to_fahrenheit())\n",
    "print(absolute_zero.to_kelvin())\n",
    "\n",
    "print(absolute_zero)"
   ]
  },
  {
   "cell_type": "code",
   "execution_count": 5,
   "id": "ea2fd30e",
   "metadata": {},
   "outputs": [
    {
     "name": "stdout",
     "output_type": "stream",
     "text": [
      "100\n",
      "212.0\n",
      "373.15\n",
      "Celsius: 100\n",
      "Fahrenheit: 212.0\n",
      "Kelvin: 373.15\n"
     ]
    }
   ],
   "source": [
    "water_boiling_point = Temperature(100)\n",
    "\n",
    "print(water_boiling_point.to_celsius())\n",
    "print(water_boiling_point.to_fahrenheit())\n",
    "print(water_boiling_point.to_kelvin())\n",
    "print(water_boiling_point) "
   ]
  },
  {
   "cell_type": "code",
   "execution_count": 6,
   "id": "f97312e8",
   "metadata": {},
   "outputs": [
    {
     "name": "stdout",
     "output_type": "stream",
     "text": [
      "16\n",
      "60.8\n",
      "289.15\n"
     ]
    }
   ],
   "source": [
    "room_temperature = Temperature(20)\n",
    "room_temperature.set_temperature(-300) \n",
    "room_temperature.set_temperature(16)\n",
    "print(room_temperature.to_celsius())\n",
    "print(room_temperature.to_fahrenheit())\n",
    "print(room_temperature.to_kelvin())"
   ]
  },
  {
   "cell_type": "code",
   "execution_count": 3,
   "id": "fe89f45c",
   "metadata": {},
   "outputs": [],
   "source": [
    "class Array:\n",
    "    def __init__(self, array):\n",
    "        self.__array = array\n",
    "    \n",
    "    def get(self, b):\n",
    "        return self.__array[b]\n",
    "    \n",
    "    def append(self, b):\n",
    "        self.__array.append(b)\n",
    "    \n",
    "    def pop(self):\n",
    "        self.__array.pop()\n",
    "    \n",
    "    def extend(self, b):\n",
    "        self.__array.extend(b)\n",
    "    \n",
    "    def insert(self, b, c):\n",
    "        self.__array.insert(b, c)\n",
    "    \n",
    "    def index(self, b):\n",
    "        self.__array.index(b)\n",
    "    \n",
    "    def length(self):\n",
    "        return len(self.__array)"
   ]
  },
  {
   "cell_type": "code",
   "execution_count": 4,
   "id": "b5d6e329",
   "metadata": {},
   "outputs": [
    {
     "name": "stdout",
     "output_type": "stream",
     "text": [
      "zero\n",
      "9\n"
     ]
    }
   ],
   "source": [
    "arr = Array([\"zero\", \"one\", \"two\", \"three\", \"four\"])\n",
    "\n",
    "print(arr.get(0))\n",
    "arr.append(\"five\")\n",
    "arr.pop()\n",
    "arr.extend([\"five\", \"six\", \"seven\"])\n",
    "arr.insert(8, \"eight\")\n",
    "arr.index(\"zero\")\n",
    "print(arr.length())"
   ]
  },
  {
   "cell_type": "code",
   "execution_count": 40,
   "id": "0f9279ec",
   "metadata": {},
   "outputs": [],
   "source": [
    "class BankAccount:\n",
    "    def __init__(self,Balance):\n",
    "        self.__Balance = Balance\n",
    "        \n",
    "    def get_balance(self):\n",
    "        return self.__Balance\n",
    "        \n",
    "    def deposit(self,amount):\n",
    "        self.__Balance += amount\n",
    " \n",
    "    def pay(self,amount):\n",
    "        if self.__Balance>=amount:\n",
    "            self.__Balance-=amount\n",
    "            return True\n",
    "        return False"
   ]
  },
  {
   "cell_type": "code",
   "execution_count": 44,
   "id": "7cd5dc0d",
   "metadata": {},
   "outputs": [],
   "source": [
    "class User:\n",
    "    def __init__(self, username, bank_account):\n",
    "        self.__username = username\n",
    "        self.__bank_account = BankAccount(bank_account)\n",
    "        \n",
    "    def get_balance(self):\n",
    "        return self.__bank_account.get_balance()\n",
    "        \n",
    "    def deposit(self,amount):\n",
    "         self.__bank_account.deposit(amount)\n",
    " \n",
    "    def pay(self,amount):\n",
    "        return self.__bank_account.pay(amount)"
   ]
  },
  {
   "cell_type": "code",
   "execution_count": 46,
   "id": "6543f02e",
   "metadata": {},
   "outputs": [
    {
     "name": "stdout",
     "output_type": "stream",
     "text": [
      "Transaction Complete\n",
      "Transaction Complete\n",
      "Transaction Complete\n",
      "Transaction Failed\n",
      "Transaction Complete\n"
     ]
    }
   ],
   "source": [
    "def transaction(item, user):\n",
    "    return \"Transaction Complete\" if user.pay(item) else \"Transaction Failed\"\n",
    "\n",
    "restaurant = {\n",
    "    \"burger\": 10,\n",
    "    \"softdrink\": 5\n",
    "}\n",
    "\n",
    "bookstore = {\n",
    "    \"comic\": 10,\n",
    "    \"magazine\": 7,\n",
    "    \"textbook\": 50\n",
    "}\n",
    "\n",
    "john = User(\"John\", 50)\n",
    "print(transaction(restaurant[\"burger\"], john)) \n",
    "print(transaction(restaurant[\"softdrink\"], john))\n",
    "print(transaction(bookstore[\"comic\"], john))\n",
    "print(transaction(bookstore[\"textbook\"], john))\n",
    "john.deposit(50)\n",
    "print(transaction(bookstore[\"textbook\"], john)) "
   ]
  }
 ],
 "metadata": {
  "kernelspec": {
   "display_name": "Python 3 (ipykernel)",
   "language": "python",
   "name": "python3"
  },
  "language_info": {
   "codemirror_mode": {
    "name": "ipython",
    "version": 3
   },
   "file_extension": ".py",
   "mimetype": "text/x-python",
   "name": "python",
   "nbconvert_exporter": "python",
   "pygments_lexer": "ipython3",
   "version": "3.10.7"
  }
 },
 "nbformat": 4,
 "nbformat_minor": 5
}
