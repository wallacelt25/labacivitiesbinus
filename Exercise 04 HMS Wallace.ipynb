{
 "cells": [
  {
   "cell_type": "code",
   "execution_count": 10,
   "id": "4f9af1dd",
   "metadata": {},
   "outputs": [
    {
     "name": "stdout",
     "output_type": "stream",
     "text": [
      "Enter number of seconds:10000000\n",
      "2777:46:40\n"
     ]
    }
   ],
   "source": [
    "a=0\n",
    "b=0\n",
    "c=0\n",
    "\n",
    "\n",
    "x= int(input(\"Enter number of seconds:\"))\n",
    "a= x%60\n",
    "b= x//60%60\n",
    "c= x//3600\n",
    "print(\"%02d:%02d:%02d\" % (c, b, a))"
   ]
  },
  {
   "cell_type": "code",
   "execution_count": null,
   "id": "8afb28d4",
   "metadata": {},
   "outputs": [],
   "source": []
  }
 ],
 "metadata": {
  "kernelspec": {
   "display_name": "Python 3 (ipykernel)",
   "language": "python",
   "name": "python3"
  },
  "language_info": {
   "codemirror_mode": {
    "name": "ipython",
    "version": 3
   },
   "file_extension": ".py",
   "mimetype": "text/x-python",
   "name": "python",
   "nbconvert_exporter": "python",
   "pygments_lexer": "ipython3",
   "version": "3.10.7"
  }
 },
 "nbformat": 4,
 "nbformat_minor": 5
}
