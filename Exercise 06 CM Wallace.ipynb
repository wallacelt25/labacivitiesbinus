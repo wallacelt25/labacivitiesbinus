{
 "cells": [
  {
   "cell_type": "code",
   "execution_count": 6,
   "id": "63e43d0d",
   "metadata": {},
   "outputs": [
    {
     "name": "stdout",
     "output_type": "stream",
     "text": [
      "Enter burger selling price:50\n",
      "Enter cola selling price:60\n",
      "Enter combo meal selling price:110\n",
      "0\n"
     ]
    }
   ],
   "source": [
    "B= int(input(\"Enter burger selling price:\"))\n",
    "C= int(input(\"Enter cola selling price:\"))\n",
    "M= int(input(\"Enter combo meal selling price:\"))\n",
    "\n",
    "p=B+C-M\n",
    "print(\"The fixed price is $\" +str(price) +\".00\")"
   ]
  },
  {
   "cell_type": "code",
   "execution_count": null,
   "id": "4b65ac48",
   "metadata": {},
   "outputs": [],
   "source": []
  }
 ],
 "metadata": {
  "kernelspec": {
   "display_name": "Python 3 (ipykernel)",
   "language": "python",
   "name": "python3"
  },
  "language_info": {
   "codemirror_mode": {
    "name": "ipython",
    "version": 3
   },
   "file_extension": ".py",
   "mimetype": "text/x-python",
   "name": "python",
   "nbconvert_exporter": "python",
   "pygments_lexer": "ipython3",
   "version": "3.10.7"
  }
 },
 "nbformat": 4,
 "nbformat_minor": 5
}
