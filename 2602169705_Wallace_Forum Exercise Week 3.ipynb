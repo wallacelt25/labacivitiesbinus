{
 "cells": [
  {
   "cell_type": "code",
   "execution_count": 5,
   "id": "740193aa",
   "metadata": {},
   "outputs": [
    {
     "name": "stdout",
     "output_type": "stream",
     "text": [
      "Input radius of circle:5\n",
      "Area of circle is78.53981633974483\n"
     ]
    }
   ],
   "source": [
    "import math\n",
    "# allows to perform mathematical tasks\n",
    "R=float(input(\"Input radius of circle:\"))\n",
    "Area=math.pi*R**2\n",
    "print(\"Area of circle is\"+str(Area))"
   ]
  },
  {
   "cell_type": "code",
   "execution_count": 107,
   "id": "bcba8457",
   "metadata": {},
   "outputs": [
    {
     "name": "stdout",
     "output_type": "stream",
     "text": [
      "Enter your first name:Jason\n",
      "Enter your last name:Jonathan\n",
      "Jonathan  Jason\n"
     ]
    }
   ],
   "source": [
    "f= input(\"Enter your first name:\")\n",
    "l= input(\"Enter your last name:\")\n",
    "print(l,\"\",f)"
   ]
  },
  {
   "cell_type": "code",
   "execution_count": 4,
   "id": "fb62d1f2",
   "metadata": {},
   "outputs": [
    {
     "name": "stdout",
     "output_type": "stream",
     "text": [
      "The first and last colors are['Red', 'Black']\n"
     ]
    }
   ],
   "source": [
    "color_list = [\"Red\",\"Green\",\"White\",\"Black\"]\n",
    "# cuts other elements at the list\n",
    "print(\"The first and last colors are\", color_list[0],\"and\",color_)"
   ]
  },
  {
   "cell_type": "code",
   "execution_count": 8,
   "id": "52da1335",
   "metadata": {},
   "outputs": [
    {
     "name": "stdout",
     "output_type": "stream",
     "text": [
      "Enter an integer:8\n",
      "584\n"
     ]
    }
   ],
   "source": [
    "i= int(input(\"Enter an integer:\"))\n",
    "v=i+i*i+i*i*i\n",
    "print(v)"
   ]
  },
  {
   "cell_type": "code",
   "execution_count": 10,
   "id": "03d9e33b",
   "metadata": {},
   "outputs": [
    {
     "name": "stdout",
     "output_type": "stream",
     "text": [
      "904.7786842338603\n"
     ]
    }
   ],
   "source": [
    "import math\n",
    "V=4/3*math.pi*6**3\n",
    "print(V)"
   ]
  },
  {
   "cell_type": "code",
   "execution_count": 13,
   "id": "224ce759",
   "metadata": {},
   "outputs": [
    {
     "name": "stdout",
     "output_type": "stream",
     "text": [
      "Enter a number:20\n",
      "6.0\n"
     ]
    }
   ],
   "source": [
    "n=float(input(\"Enter a number:\"))\n",
    "if n <= 17:\n",
    "    print(17-n)\n",
    "if n > 17:\n",
    "    print(2*abs(17-n))"
   ]
  },
  {
   "cell_type": "code",
   "execution_count": 18,
   "id": "24ac63b7",
   "metadata": {},
   "outputs": [
    {
     "name": "stdout",
     "output_type": "stream",
     "text": [
      "Enter the first number:5\n",
      "Enter the second number:6\n",
      "Enter the third number:7\n",
      "18.0\n"
     ]
    }
   ],
   "source": [
    "x= float(input(\"Enter the first number:\"))\n",
    "y= float(input(\"Enter the second number:\"))\n",
    "z= float(input(\"Enter the third number:\"))\n",
    "\n",
    "if x == y == z:\n",
    "    print(3*(x+y+z))\n",
    "if x!= y != z:\n",
    "    print(x+y+z)"
   ]
  },
  {
   "cell_type": "code",
   "execution_count": 24,
   "id": "76887e0f",
   "metadata": {},
   "outputs": [
    {
     "name": "stdout",
     "output_type": "stream",
     "text": [
      "Enter a number:7\n",
      "7 is odd number\n"
     ]
    }
   ],
   "source": [
    "n= int(input(\"Enter a number:\"))\n",
    "if (n % 2) ==0:\n",
    "#checks if divided by 2 leaves remainder or not\n",
    "    print ((n),\"is even number\")\n",
    "else:\n",
    "    print((n),\"is odd number\")"
   ]
  },
  {
   "cell_type": "code",
   "execution_count": 33,
   "id": "33bccccd",
   "metadata": {},
   "outputs": [
    {
     "name": "stdout",
     "output_type": "stream",
     "text": [
      "Enter a letter:w\n",
      "w is not a vowel\n"
     ]
    }
   ],
   "source": [
    "l= str(input(\"Enter a letter:\"))\n",
    "vowel_list= [\"a\",\"e\",\"i\",\"o\",\"u\"]\n",
    "if l in vowel_list:\n",
    "    print(l,\"is a vowel\")\n",
    "else:\n",
    "    print(l,\"is not a vowel\")"
   ]
  },
  {
   "cell_type": "code",
   "execution_count": 43,
   "id": "11fa739a",
   "metadata": {
    "scrolled": true
   },
   "outputs": [
    {
     "name": "stdout",
     "output_type": "stream",
     "text": [
      "10 is not contain in the group of values\n"
     ]
    }
   ],
   "source": [
    "group_value = [\"1\",\"3\",\"6\",\"8\"]\n",
    "n = 10\n",
    "if n in group_value:\n",
    "    print(n,\"is contained in the group of values\")\n",
    "else:\n",
    "    print(n,\"is not contain in the group of values\")"
   ]
  },
  {
   "cell_type": "code",
   "execution_count": 170,
   "id": "b5684bc4",
   "metadata": {},
   "outputs": [
    {
     "name": "stdout",
     "output_type": "stream",
     "text": [
      "****\n",
      "**********\n",
      "*********\n",
      "*******\n",
      "************\n"
     ]
    }
   ],
   "source": [
    "def histogram(amount):\n",
    "#defines the histogram values\n",
    "    for n in amount:\n",
    "        output = ''\n",
    "        amount = n\n",
    "        while( amount > 0):\n",
    "            output += '*'\n",
    "            amount = amount - 1\n",
    "        print(output)\n",
    "#outputs the amount of the values in stars\n",
    "\n",
    "histogram([4,10,9,7,12])"
   ]
  },
  {
   "cell_type": "code",
   "execution_count": 49,
   "id": "b65350a5",
   "metadata": {},
   "outputs": [
    {
     "name": "stdout",
     "output_type": "stream",
     "text": [
      "24\n",
      "58\n",
      "104\n",
      "162\n",
      "236\n",
      "248\n",
      "328\n",
      "344\n",
      "386\n",
      "412\n",
      "418\n",
      "462\n",
      "512\n",
      "566\n",
      "566\n",
      "626\n",
      "742\n",
      "758\n",
      "826\n",
      "866\n",
      "892\n",
      "894\n",
      "918\n",
      "950\n",
      "958\n",
      "978\n"
     ]
    }
   ],
   "source": [
    "numbers_list = [386, 462, 47, 418, 907, 344, 236, 375, 823, 566, 597, 978, 328, 615, 953, 345, \n",
    "399, 162, 758, 219, 918, 237, 412, 566, 826, 248, 866, 950, 626, 949, 687, 217, \n",
    "815, 67, 104, 58, 512, 24, 892, 894, 767, 553, 81, 379, 843, 831, 445, 742, 717, \n",
    "958,743, 527]\n",
    "numbers_list.sort()\n",
    "for n in numbers_list:\n",
    "    if n % 2 == 0:\n",
    "        print(n)"
   ]
  },
  {
   "cell_type": "code",
   "execution_count": 51,
   "id": "499dcef3",
   "metadata": {},
   "outputs": [
    {
     "name": "stdout",
     "output_type": "stream",
     "text": [
      "Enter the base of a triangle:8\n",
      "Enter the height of a triangle:4\n",
      "The area of the triangle is: 16.0\n"
     ]
    }
   ],
   "source": [
    "b=float(input(\"Enter the base of a triangle:\"))\n",
    "h=float(input(\"Enter the height of a triangle:\"))\n",
    "print(\"The area of the triangle is:\",1/2*b*h)"
   ]
  },
  {
   "cell_type": "code",
   "execution_count": 162,
   "id": "72ea1bf9",
   "metadata": {},
   "outputs": [
    {
     "name": "stdout",
     "output_type": "stream",
     "text": [
      "Enter the first integer:12\n",
      "Enter the second integer:26\n",
      "156\n"
     ]
    }
   ],
   "source": [
    "x=int(input(\"Enter the first integer:\"))\n",
    "y=int(input(\"Enter the second integer:\"))\n",
    "if(x>y):\n",
    "    top = x\n",
    "else:\n",
    "    top = y\n",
    "while(True):\n",
    "    if(top % x == 0 and top % y == 0):\n",
    "        print(top)\n",
    "        break;\n",
    "    top = top+1"
   ]
  },
  {
   "cell_type": "code",
   "execution_count": 58,
   "id": "408ba4a7",
   "metadata": {},
   "outputs": [
    {
     "name": "stdout",
     "output_type": "stream",
     "text": [
      "Enter the first number:2\n",
      "Enter the second number:3\n",
      "Enter the third number:4\n",
      "9.0\n"
     ]
    }
   ],
   "source": [
    "x= float(input(\"Enter the first number:\"))\n",
    "y= float(input(\"Enter the second number:\"))\n",
    "z= float(input(\"Enter the third number:\"))\n",
    "\n",
    "if x == y != z:\n",
    "    print(0)\n",
    "elif x != y == z:\n",
    "    print(0)\n",
    "elif x == z != y:\n",
    "    print(0)\n",
    "else:\n",
    "    print(x+y+z)"
   ]
  },
  {
   "cell_type": "code",
   "execution_count": 166,
   "id": "9c4bf76b",
   "metadata": {},
   "outputs": [
    {
     "name": "stdout",
     "output_type": "stream",
     "text": [
      "( 4 + 3 )^2)= 49\n"
     ]
    }
   ],
   "source": [
    "x=4\n",
    "y=3\n",
    "z= (x+y)*(x+y)\n",
    "print(\"(\",(x),\"+\",(y),\")^2)=\",z)"
   ]
  },
  {
   "cell_type": "code",
   "execution_count": 63,
   "id": "17699872",
   "metadata": {},
   "outputs": [
    {
     "name": "stdout",
     "output_type": "stream",
     "text": [
      "12722.79\n"
     ]
    }
   ],
   "source": [
    "a= 10000\n",
    "i= 3.5\n",
    "y=7\n",
    "fv=a*((1+0.01*i)**y)\n",
    "#formula of future value\n",
    "print(round(fv,2))"
   ]
  },
  {
   "cell_type": "code",
   "execution_count": 66,
   "id": "0bece659",
   "metadata": {},
   "outputs": [
    {
     "name": "stdout",
     "output_type": "stream",
     "text": [
      "Enter the first x point:3\n",
      "Enter the first y point:5\n",
      "Enter the second x point:6\n",
      "Enter the second y point:2\n",
      "The distance between the two points is 4.24\n"
     ]
    }
   ],
   "source": [
    "x1=float(input(\"Enter the first x point:\"))\n",
    "y1=float(input(\"Enter the first y point:\"))\n",
    "x2=float(input(\"Enter the second x point:\"))\n",
    "y2=float(input(\"Enter the second y point:\"))\n",
    "d=((x2-x1)**2+(y2-y1)**2)**(0.5)\n",
    "print(\"The distance between the two points is\",round(d,2),\"units\")"
   ]
  },
  {
   "cell_type": "code",
   "execution_count": 67,
   "id": "97182c30",
   "metadata": {},
   "outputs": [
    {
     "name": "stdout",
     "output_type": "stream",
     "text": [
      "Enter a number:5\n",
      "The sum of the first 5 positive integers is 15.0\n"
     ]
    }
   ],
   "source": [
    "i=int(input(\"Enter a number:\"))\n",
    "f=(i*(i+1))/2\n",
    "#creates a statement (formula)\n",
    "print(\"The sum of the first\",i,\"positive integers is\",f)"
   ]
  },
  {
   "cell_type": "code",
   "execution_count": 68,
   "id": "c096aad1",
   "metadata": {},
   "outputs": [
    {
     "name": "stdout",
     "output_type": "stream",
     "text": [
      "Enter feet:2\n",
      "Enter inches:3\n",
      "Your height is 68.58 centimetres\n"
     ]
    }
   ],
   "source": [
    "f=float(input(\"Enter feet:\"))\n",
    "i=float(input(\"Enter inches:\"))\n",
    "cm=f*30.48 + i*2.54\n",
    "print(\"Your height is\",cm,\"centimetres\")"
   ]
  },
  {
   "cell_type": "code",
   "execution_count": 71,
   "id": "3d55c624",
   "metadata": {},
   "outputs": [
    {
     "name": "stdout",
     "output_type": "stream",
     "text": [
      "Enter the first number:4\n",
      "Enter the second number:3\n",
      "The hypotenuse of the right-angled triangle is 5.0\n"
     ]
    }
   ],
   "source": [
    "a=float(input(\"Enter the first number:\"))\n",
    "b=float(input(\"Enter the second number:\"))\n",
    "c=(a**2+b**2)**(0.5)\n",
    "print(\"The hypotenuse of the right-angled triangle is\",c)"
   ]
  },
  {
   "cell_type": "code",
   "execution_count": 100,
   "id": "2bb985ff",
   "metadata": {},
   "outputs": [
    {
     "name": "stdout",
     "output_type": "stream",
     "text": [
      "Enter feet:5\n",
      "Enter inches:11\n",
      "Enter weight (lbs):155\n",
      "Your BMI is: 21.61575084308669\n"
     ]
    }
   ],
   "source": [
    "f= int(input(\"Enter feet:\"))\n",
    "i= float(input(\"Enter inches:\"))\n",
    "w= float(input(\"Enter weight (lbs):\"))\n",
    "\n",
    "BMI=703*(w/((f*12+i)**2))\n",
    "print(\"Your BMI is:\",round(BMI,2)"
   ]
  },
  {
   "cell_type": "code",
   "execution_count": 106,
   "id": "f7c72fd5",
   "metadata": {},
   "outputs": [
    {
     "name": "stdout",
     "output_type": "stream",
     "text": [
      "Enter the first x point:5\n",
      "Enter the first y point:10\n",
      "Enter the second x point:7\n",
      "Enter the second y point:2\n",
      "The midpoint of the line is: 6.0 , 6.0\n",
      "Value of x: 6.0  Value of y 6.0\n"
     ]
    }
   ],
   "source": [
    "x1=float(input(\"Enter the first x point:\"))\n",
    "y1=float(input(\"Enter the first y point:\"))\n",
    "x2=float(input(\"Enter the second x point:\"))\n",
    "y2=float(input(\"Enter the second y point:\"))\n",
    "Mx=((x1+x2)/2)\n",
    "My=((y1+y2)/2)\n",
    "print(\"The midpoint of the line is:\",Mx,\",\",My)\n",
    "print(\"Value of x:\",Mx,\"\",\"Value of y\",My)"
   ]
  },
  {
   "cell_type": "code",
   "execution_count": 150,
   "id": "f7a2b2a4",
   "metadata": {},
   "outputs": [
    {
     "name": "stdout",
     "output_type": "stream",
     "text": [
      "[2002, 2009, 2016, 2023, 2030, 2037, 2044, 2051, 2058, 2065, 2072, 2079, 2086, 2093, 2100, 2107, 2114, 2121, 2128, 2135, 2142, 2149, 2156, 2163, 2170, 2177, 2184, 2191, 2198, 2205, 2212, 2219, 2226, 2233, 2240, 2247, 2254, 2261, 2268, 2275, 2282, 2289, 2296, 2303, 2310, 2317, 2324, 2331, 2338, 2345, 2352, 2359, 2366, 2373, 2380, 2387, 2394, 2401, 2408, 2415, 2422, 2429, 2436, 2443, 2450, 2457, 2464, 2471, 2478, 2485, 2492, 2499, 2506, 2513, 2520, 2527, 2534, 2541, 2548, 2555, 2562, 2569, 2576, 2583, 2590, 2597, 2604, 2611, 2618, 2625, 2632, 2639, 2646, 2653, 2660, 2667, 2674, 2681, 2688, 2695, 2702, 2709, 2716, 2723, 2730, 2737, 2744, 2751, 2758, 2765, 2772, 2779, 2786, 2793, 2800, 2807, 2814, 2821, 2828, 2835, 2842, 2849, 2856, 2863, 2870, 2877, 2884, 2891, 2898, 2905, 2912, 2919, 2926, 2933, 2940, 2947, 2954, 2961, 2968, 2975, 2982, 2989, 2996, 3003, 3010, 3017, 3024, 3031, 3038, 3045, 3052, 3059, 3066, 3073, 3080, 3087, 3094, 3101, 3108, 3115, 3122, 3129, 3136, 3143, 3150, 3157, 3164, 3171, 3178, 3185, 3192, 3199]\n"
     ]
    }
   ],
   "source": [
    "i=[i for i in range(2000,3201) if (i%7==0)and(x % 5 != 0)]\n",
    "#before if is range and after is criteria\n",
    "print (i)"
   ]
  }
 ],
 "metadata": {
  "kernelspec": {
   "display_name": "Python 3 (ipykernel)",
   "language": "python",
   "name": "python3"
  },
  "language_info": {
   "codemirror_mode": {
    "name": "ipython",
    "version": 3
   },
   "file_extension": ".py",
   "mimetype": "text/x-python",
   "name": "python",
   "nbconvert_exporter": "python",
   "pygments_lexer": "ipython3",
   "version": "3.10.7"
  }
 },
 "nbformat": 4,
 "nbformat_minor": 5
}
