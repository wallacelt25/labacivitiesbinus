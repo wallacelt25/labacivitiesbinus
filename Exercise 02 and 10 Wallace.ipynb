{
 "cells": [
  {
   "cell_type": "code",
   "execution_count": 8,
   "id": "8127d47c",
   "metadata": {},
   "outputs": [
    {
     "name": "stdout",
     "output_type": "stream",
     "text": [
      "Dbex hi d dihbxt\n"
     ]
    }
   ],
   "source": [
    "#Caesar Cipher\n",
    "def caesar_cipher(sentence, n):\n",
    "    sentence = list(sentence.strip(\" \"))\n",
    "    for i in range(len(sentence)):\n",
    "        caps_a = [\"A\", \"B\", \"C\", \"D\", \"E\", \"F\", \"G\", \"H\", \"I\", \"J\", \"K\", \"L\", \"M\", \"N\", \"O\", \"P\", \"Q\", \"R\", \"S\", \"T\", \"U\", \"V\", \"W\", \"X\", \"Y\", \"Z\"]\n",
    "        noncaps_a = [\"a\", \"b\", \"c\", \"d\", \"e\", \"f\", \"g\", \"h\", \"i\", \"j\", \"k\", \"l\", \"m\", \"n\", \"o\", \"p\", \"q\", \"r\", \"s\", \"t\", \"u\", \"v\", \"w\", \"x\", \"y\", \"z\"]\n",
    "        for j in range(len(caps_a)):\n",
    "            if sentence[i] == caps_a[j]:\n",
    "                sentence[i] = caps_a[j - n]\n",
    "                break\n",
    "            elif sentence[i] == noncaps_a[j]:\n",
    "                sentence[i] = noncaps_a[j - n]\n",
    "                break\n",
    "    sentence = \"\".join(sentence)\n",
    "    return sentence\n",
    "print(caesar_cipher(\"Kile op k kpoiea\", 7))"
   ]
  },
  {
   "cell_type": "code",
   "execution_count": 22,
   "id": "c23ad1bb",
   "metadata": {},
   "outputs": [
    {
     "name": "stdout",
     "output_type": "stream",
     "text": [
      "25\n"
     ]
    }
   ],
   "source": [
    "def gameWithCells(n: int(2), m: int(2) ):\n",
    "    ans = 0\n",
    "    tot = n*m\n",
    "    \n",
    "    ans += (n//2) * (m//2)\n",
    "    tot -= ans*4\n",
    "    ans += tot//2 + tot%2\n",
    "    \n",
    "    return ans\n",
    "print(gameWithCells(9,9))"
   ]
  }
 ],
 "metadata": {
  "kernelspec": {
   "display_name": "Python 3 (ipykernel)",
   "language": "python",
   "name": "python3"
  },
  "language_info": {
   "codemirror_mode": {
    "name": "ipython",
    "version": 3
   },
   "file_extension": ".py",
   "mimetype": "text/x-python",
   "name": "python",
   "nbconvert_exporter": "python",
   "pygments_lexer": "ipython3",
   "version": "3.10.7"
  }
 },
 "nbformat": 4,
 "nbformat_minor": 5
}
