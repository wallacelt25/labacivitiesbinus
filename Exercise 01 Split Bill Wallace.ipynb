{
 "cells": [
  {
   "cell_type": "code",
   "execution_count": 29,
   "id": "92f77ba7",
   "metadata": {},
   "outputs": [
    {
     "name": "stdout",
     "output_type": "stream",
     "text": [
      "Enter amount of bill:100\n",
      "Enter number of people:2\n",
      "Enter amount of tips (%):10\n",
      "$5.0\n",
      "$55.0\n"
     ]
    }
   ],
   "source": [
    "x=(\"amount_bill\")\n",
    "y=(\"number_of_people\")\n",
    "z=(\"amount_of_tips\")\n",
    "\n",
    "x= int(input(\"Enter amount of bill:\"))\n",
    "y= int(input(\"Enter number of people:\"))\n",
    "z= int(input(\"Enter amount of tips (%):\"))\n",
    "\n",
    "d=tipamount_person\n",
    "e=totalamount_person\n",
    "\n",
    "tipamount_person = ((z/100)*x/y)\n",
    "totalamount_person= ((x/y)+tipamount_person)\n",
    "\n",
    "print(\"$\"+str(d))\n",
    "print(\"$\"+str(e))\n"
   ]
  },
  {
   "cell_type": "code",
   "execution_count": null,
   "id": "08cef6f0",
   "metadata": {},
   "outputs": [],
   "source": []
  }
 ],
 "metadata": {
  "kernelspec": {
   "display_name": "Python 3 (ipykernel)",
   "language": "python",
   "name": "python3"
  },
  "language_info": {
   "codemirror_mode": {
    "name": "ipython",
    "version": 3
   },
   "file_extension": ".py",
   "mimetype": "text/x-python",
   "name": "python",
   "nbconvert_exporter": "python",
   "pygments_lexer": "ipython3",
   "version": "3.10.7"
  }
 },
 "nbformat": 4,
 "nbformat_minor": 5
}
